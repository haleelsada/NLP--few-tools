{
  "nbformat": 4,
  "nbformat_minor": 0,
  "metadata": {
    "colab": {
      "name": "NLP-Competition-1.ipynb",
      "provenance": [],
      "collapsed_sections": [],
      "authorship_tag": "ABX9TyPcUhf3ojq4Mxt/IpEXjRJ4",
      "include_colab_link": true
    },
    "kernelspec": {
      "name": "python3",
      "display_name": "Python 3"
    },
    "language_info": {
      "name": "python"
    }
  },
  "cells": [
    {
      "cell_type": "markdown",
      "metadata": {
        "id": "view-in-github",
        "colab_type": "text"
      },
      "source": [
        "<a href=\"https://colab.research.google.com/github/haleelsada/NLP-some_tools/blob/main/NLP_1.ipynb\" target=\"_parent\"><img src=\"https://colab.research.google.com/assets/colab-badge.svg\" alt=\"Open In Colab\"/></a>"
      ]
    },
    {
      "cell_type": "markdown",
      "metadata": {
        "id": "lXOca9K8ULAu"
      },
      "source": [
        "# **NLP-Challenge**\n",
        "\n",
        "Challenge: \n",
        "3 groups of text are given.\n",
        "\n",
        "From text group 1,\n",
        "1.\tidentify entities (person, place, thing, location, work of art)\n",
        "2.\tCategorize them into ‘living entity’, ‘person’ or ‘object’. \n"
      ]
    },
    {
      "cell_type": "code",
      "metadata": {
        "id": "EX9GCW9dWVAR"
      },
      "source": [
        "text1='''The Office is an American mockumentary sitcom television series that depicts the everyday work lives of office employees in the Scranton, Pennsylvania, branch of the \n",
        "fictional Dunder Mifflin Paper Company. It aired on NBC from March 24, 2005, to May 16, 2013, lasting a total of nine seasons.[1] Based on the 2001–2003 BBC series of the same \n",
        "name, it was adapted for American television by Greg Daniels, a veteran writer for Saturday Night Live, King of the Hill, and The Simpsons. It was co-produced by Daniels's \n",
        "Deedle-Dee Productions, and Reveille Productions (later Shine America), in association with Universal Television. The original executive producers were Daniels, Howard Klein, \n",
        "Ben Silverman, Ricky Gervais, and Stephen Merchant, with numerous others being promoted in later seasons. \n",
        "P. Padmarajan (23 May 1945 – 23 January 1991) was an Indian film maker, screenwriter and author who was known for his landmark work in Malayalam literature and Malayalam cinema. \n",
        "Padmarajan was the founder of a new school of film making in Malayalam cinema, along with Bharathan and K. G. George, in the 1980s, which created groundbreaking films that were \n",
        "widely received while also being critically acclaimed. Known for his classic works, he is widely regarded as one of the greatest film makers of Indian Cinema of all time. He is \n",
        "known for the mastery in screenwriting in Malayalam Cinema. Padmarajan was noted for his fine and detailed screenwriting and expressive direction style. Padmarajan made some of \n",
        "the landmark motion pictures in Malayalam cinema, including critically acclaimed works like Moonnam Pakkam (1988), Innale (1989), Season (1989) and Njan Gandharvan (1991). He \n",
        "wrote several short stories which were unique in content and presentation. His novels handled the darkest emotions and are considered as classics.'''"
      ],
      "execution_count": null,
      "outputs": []
    },
    {
      "cell_type": "markdown",
      "metadata": {
        "id": "UuYKQiMFYPc5"
      },
      "source": [
        "* Identify entities"
      ]
    },
    {
      "cell_type": "code",
      "metadata": {
        "id": "UevSVFyrYq1r"
      },
      "source": [
        "#import spacy and 'en_core_web_sm' ,dissable all unwanted pipeline functions for good speed\n",
        "import spacy\n",
        "nlp=spacy.load('en_core_web_sm')\n",
        "nlp = spacy.load(\"en_core_web_sm\", disable=[\"tok2vec\", \"tagger\", \"parser\", \"attribute_ruler\", \"lemmatizer\"])\n",
        "import random\n",
        "from spacy.util import minibatch, compounding\n",
        "from pathlib import Path\n",
        "textt=nlp(text1)"
      ],
      "execution_count": null,
      "outputs": []
    },
    {
      "cell_type": "code",
      "metadata": {
        "colab": {
          "base_uri": "https://localhost:8080/"
        },
        "id": "Ukg8AOtoYyYV",
        "outputId": "1547e9ed-6195-4430-d7da-585ad48c9b56"
      },
      "source": [
        "print(len(textt.ents))\n",
        "for i in textt.ents:\n",
        "  print(i,i.label_)"
      ],
      "execution_count": null,
      "outputs": [
        {
          "output_type": "stream",
          "text": [
            "49\n",
            "American NORP\n",
            "Scranton GPE\n",
            "Pennsylvania GPE\n",
            "Dunder Mifflin Paper Company ORG\n",
            "NBC ORG\n",
            "March 24, 2005 DATE\n",
            "May 16, 2013 DATE\n",
            "nine CARDINAL\n",
            "BBC ORG\n",
            "American NORP\n",
            "Greg Daniels PERSON\n",
            "Saturday Night Live, King of the Hill WORK_OF_ART\n",
            "Simpsons PERSON\n",
            "Daniels PERSON\n",
            "Deedle-Dee Productions ORG\n",
            "Reveille Productions ORG\n",
            "Shine America LOC\n",
            "Universal Television ORG\n",
            "Daniels PRODUCT\n",
            "Howard Klein PERSON\n",
            "Ben Silverman PERSON\n",
            "Ricky Gervais PERSON\n",
            "Stephen Merchant PERSON\n",
            "later seasons DATE\n",
            "P. Padmarajan PERSON\n",
            "23 CARDINAL\n",
            "May 1945 DATE\n",
            "23 CARDINAL\n",
            "January 1991 DATE\n",
            "Indian NORP\n",
            "Malayalam ORG\n",
            "Malayalam NORP\n",
            "Padmarajan PERSON\n",
            "Malayalam ORG\n",
            "Bharathan PERSON\n",
            "K. G. George PERSON\n",
            "the 1980s DATE\n",
            "Indian NORP\n",
            "Malayalam Cinema PERSON\n",
            "Padmarajan PERSON\n",
            "Padmarajan PERSON\n",
            "Malayalam ORG\n",
            "Moonnam Pakkam PERSON\n",
            "1988 DATE\n",
            "Innale ORG\n",
            "1989 DATE\n",
            "1989 DATE\n",
            "Njan Gandharvan ORG\n",
            "1991 DATE\n"
          ],
          "name": "stdout"
        }
      ]
    },
    {
      "cell_type": "markdown",
      "metadata": {
        "id": "qb_3rgFrkDa1"
      },
      "source": [
        "As we can see this model is not good, since it can't identify The office as an entity and it find The simpsons as person and few more mistakes,\n",
        "so train it on new data for better named entity recognition"
      ]
    },
    {
      "cell_type": "code",
      "metadata": {
        "id": "7UyKpuVJ_Deg"
      },
      "source": [
        "DATA = [\n",
        "              (\"Malayalam is a language spoken by south indians\", {\"entities\": [(0, 9, \"LANGUAGE\")]}),\n",
        "              (\"A lot of people speaks Malayalam\", {\"entities\": [(24, 33, \"LANGUAGE\")]}),\n",
        "              (\"I love Malayalam movies\", {\"entities\": [(8,17, \"LANGUAGE\")]}),\n",
        "              (\"Tamil was derived from sanskrit\", {\"entities\": [(0,5, \"LANGUAGE\")]}),\n",
        "              (\"He is a Malayalam actor\", {\"entities\": [(9,18, \"LANGUAGE\")]}),\n",
        "              (\"Manichithrathazh (1997) is an amazing movie\", {\"entities\": [(0,17, \"WORK_OF_ART\")]}),\n",
        "              (\"Inception (2010) was an exceptional movie\", {\"entities\": [(0,9, \"WORK_OF_ART\")]}),\n",
        "              (\"Malayalam Cinema industry is very famous for its art works\", {\"entities\": [(0,16, \"ORG\")]}),\n",
        "              (\"Johns is a friend of me\", {\"entities\": [(0,5, \"PERSON\")]}),\n",
        "              (\"I am Davy jones \", {\"entities\": [(5,15, \"PRODUCT\")]}),\n",
        "              (\"Thaniyavarthanam (1999) and vatsalayam (1991) are exceptional work of mamooty\", {\"entities\": [(0,16, \"WORK_OF_ART\")]}),\n",
        "              (\"Thaniyavarthanam (1999) and vatsalayam (1991) are exceptional work of mamooty\", {\"entities\": [(28,37, \"WORK_OF_ART\")]}),\n",
        "              (\"he was a writer for The Batman, The Priest\", {\"entities\": [(20,29, \"WORK_OF_ART\")]}),\n",
        "              (\"Maheshinte Prathikaram (2017) is a wonderfull movie experience\", {\"entities\": [(0,21, \"WORK_OF_ART\")]}),\n",
        "              (\"I watched Njan Prakashan (2018) \", {\"entities\": [(10,24, \"WORK_OF_ART\")]})\n",
        "              ]"
      ],
      "execution_count": null,
      "outputs": []
    },
    {
      "cell_type": "code",
      "metadata": {
        "id": "k5JijmoSFM8h"
      },
      "source": [
        "# Training on DATA\n",
        "# Getting the pipeline component\n",
        "# Adding labels to the `ner`\n",
        "ner=nlp.get_pipe(\"ner\")\n",
        "for _, annotations in DATA:\n",
        "  for ent in annotations.get(\"entities\"):\n",
        "    ner.add_label(ent[2])\n",
        "pipe_exceptions = [\"ner\", \"trf_wordpiecer\", \"trf_tok2vec\"]\n",
        "unaffected_pipes = [pipe for pipe in nlp.pipe_names if pipe not in pipe_exceptions]\n",
        "# TRAINING THE MODEL\n",
        "with nlp.disable_pipes(*unaffected_pipes):\n",
        "\n",
        "  # Training for 30 iterations\n",
        "  for iteration in range(30):\n",
        "\n",
        "    # shuufling examples  before every iteration\n",
        "    random.shuffle(DATA)\n",
        "    losses = {}\n",
        "    # batch up the examples using spaCy's minibatch\n",
        "    batches = minibatch(DATA, size=compounding(4.0, 32.0, 1.001))\n",
        "    for batch in batches:\n",
        "        texts, annotations = zip(*batch)\n",
        "        nlp.update(\n",
        "                    texts,  # batch of texts\n",
        "                    annotations,  # batch of annotations\n",
        "                    drop=0.5,  # dropout - make it harder to memorise data\n",
        "                    losses=losses,\n",
        "                )\n"
      ],
      "execution_count": null,
      "outputs": []
    },
    {
      "cell_type": "code",
      "metadata": {
        "colab": {
          "base_uri": "https://localhost:8080/"
        },
        "id": "rUaGRDubFM5k",
        "outputId": "8d3676cb-2d49-4f10-d1ce-c5c714aaad7a"
      },
      "source": [
        "# Again find entities after training\n",
        "texttt=nlp(text1)\n",
        "dictionry={}\n",
        "print(len(texttt.ents))\n",
        "for i in texttt.ents:\n",
        "  print(i,i.label_)"
      ],
      "execution_count": null,
      "outputs": [
        {
          "output_type": "stream",
          "text": [
            "36\n",
            "Office PERSON\n",
            "American NORP\n",
            "Scranton GPE\n",
            "Pennsylvania GPE\n",
            "Dunder Mifflin Paper Company ORG\n",
            "NBC ORG\n",
            "March 24, 2005 DATE\n",
            "May 16, 2013 DATE\n",
            "American NORP\n",
            "Greg Daniels PERSON\n",
            "Saturday Night Live, King of the Hill WORK_OF_ART\n",
            "Simpsons PERSON\n",
            "Daniels PERSON\n",
            "Deedle-Dee Productions ORG\n",
            "Reveille Productions ORG\n",
            "Shine America ORG\n",
            "Universal Television ORG\n",
            "Daniels PERSON\n",
            "Howard Klein PERSON\n",
            "Ben Silverman PERSON\n",
            "Ricky Gervais PERSON\n",
            "Stephen Merchant PERSON\n",
            "Indian NORP\n",
            "Malayalam LANGUAGE\n",
            "Malayalam NORP\n",
            "Padmarajan PERSON\n",
            "Malayalam NORP\n",
            "Bharathan PERSON\n",
            "Indian Cinema ORG\n",
            "Malayalam Cinema ORG\n",
            "Padmarajan PERSON\n",
            "Padmarajan PERSON\n",
            "Malayalam LANGUAGE\n",
            "Moonnam Pakkam WORK_OF_ART\n",
            "Innale WORK_OF_ART\n",
            "Njan Gandharvan WORK_OF_ART\n"
          ],
          "name": "stdout"
        }
      ]
    },
    {
      "cell_type": "markdown",
      "metadata": {
        "id": "a-QtkSkgSwxR"
      },
      "source": [
        "It is better than the first model ,it has some limitations too as it is not showing any dates and all"
      ]
    },
    {
      "cell_type": "code",
      "metadata": {
        "id": "87BHxVpC6Rcx"
      },
      "source": [
        "# Catogerize and store them into topics we want in a dictionry\n",
        "# There is not correct defintion for thing so not adding organisation and language to it\n",
        "dict={'person':[],'place':[],'thing':[],'location':[],'work of art':[]}\n",
        "for i in texttt.ents:\n",
        "  if i.label_=='PERSON':\n",
        "    dict['person'].append(i)\n",
        "  elif i.label_=='GPE':\n",
        "    dict['place'].append(i)\n",
        "    dict['location'].append(i)\n",
        "  elif i.label_=='PRODUCT':\n",
        "    dict['thing'].append(i)\n",
        "  elif i.label_=='WORK_OF_ART':\n",
        "   dict['work of art'].append(i)"
      ],
      "execution_count": null,
      "outputs": []
    },
    {
      "cell_type": "code",
      "metadata": {
        "id": "jgoy8ZndBhdm"
      },
      "source": [
        "# Categorize first answer to person, living entity ,object\n",
        "dict2={'living entity':[], 'person':[],'object':[]}\n",
        "dict2['person']=dict['person']\n",
        "dict2['object']=dict['work of art']+dict['thing']+dict['location']\n"
      ],
      "execution_count": null,
      "outputs": []
    },
    {
      "cell_type": "code",
      "metadata": {
        "colab": {
          "base_uri": "https://localhost:8080/"
        },
        "id": "puWUR3w2C1cE",
        "outputId": "82a2a5fb-ba3a-4596-d511-f433d8bd2204"
      },
      "source": [
        "print('text-1\\nidentify entities (person, place, thing, location, work of art)')\n",
        "for i,j in dict.items():\n",
        "  print(i,':',j)\n",
        "print('Categorize them into ‘living entity’, ‘person’ or ‘object’.')\n",
        "for i,j in dict2.items():\n",
        "  print(i,':',j)"
      ],
      "execution_count": null,
      "outputs": [
        {
          "output_type": "stream",
          "text": [
            "text-1\n",
            "identify entities (person, place, thing, location, work of art)\n",
            "person : [Office, Greg Daniels, Simpsons, Daniels, Daniels, Howard Klein, Ben Silverman, Ricky Gervais, Stephen Merchant, Padmarajan, Bharathan, Padmarajan, Padmarajan]\n",
            "place : [Scranton, Pennsylvania]\n",
            "thing : []\n",
            "location : [Scranton, Pennsylvania]\n",
            "work of art : [Saturday Night Live, King of the Hill, Moonnam Pakkam, Innale, Njan Gandharvan]\n",
            "Categorize them into ‘living entity’, ‘person’ or ‘object’.\n",
            "living entity : []\n",
            "person : [Office, Greg Daniels, Simpsons, Daniels, Daniels, Howard Klein, Ben Silverman, Ricky Gervais, Stephen Merchant, Padmarajan, Bharathan, Padmarajan, Padmarajan]\n",
            "object : [Saturday Night Live, King of the Hill, Moonnam Pakkam, Innale, Njan Gandharvan, Scranton, Pennsylvania]\n"
          ],
          "name": "stdout"
        }
      ]
    },
    {
      "cell_type": "code",
      "metadata": {
        "id": "d80IzTPeDUwK"
      },
      "source": [
        "\n"
      ],
      "execution_count": null,
      "outputs": []
    }
  ]
}