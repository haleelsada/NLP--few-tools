{
  "nbformat": 4,
  "nbformat_minor": 0,
  "metadata": {
    "colab": {
      "name": "NLP-Competition-3.ipynb",
      "provenance": [],
      "collapsed_sections": [],
      "authorship_tag": "ABX9TyM2I1+FuKp8srD35NgXpXCc",
      "include_colab_link": true
    },
    "kernelspec": {
      "name": "python3",
      "display_name": "Python 3"
    },
    "language_info": {
      "name": "python"
    }
  },
  "cells": [
    {
      "cell_type": "markdown",
      "metadata": {
        "id": "view-in-github",
        "colab_type": "text"
      },
      "source": [
        "<a href=\"https://colab.research.google.com/github/haleelsada/NLP-some_tools/blob/main/NLP_3.ipynb\" target=\"_parent\"><img src=\"https://colab.research.google.com/assets/colab-badge.svg\" alt=\"Open In Colab\"/></a>"
      ]
    },
    {
      "cell_type": "markdown",
      "metadata": {
        "id": "8mHzY6kKaYhJ"
      },
      "source": [
        "# **NLP-Competition-3**\n",
        "\n",
        "From text group 3,\n",
        "1.\tUse a model to extract the answer to a question from the corpus\n",
        " *\tHow did I make the booking?\n",
        " *\tWhat was our duration of stay?\n",
        " *\tWhen did the technician arrive?\n",
        "\n"
      ]
    },
    {
      "cell_type": "code",
      "metadata": {
        "id": "Wtx5BWOCbKzs"
      },
      "source": [
        "text3='''I am so angry that i made this post available via all possible sites i use when planning my trips so no one will make the mistake of booking this place I made my booking\n",
        " via booking com We stayed for 6 nights in this hotel from 11 to 17 July Upon arrival we were placed in a small room on the 2nd floor of the hotel It turned out that this was not\n",
        " the room we booked I had specially reserved the 2 level duplex room so that we would have a big windows and high ceilings The room itself was ok if you don t mind the broken \n",
        " window that cannot be closed hello rain and a mini fridge that contained some sort of a bio weapon at least i guessed so by the smell of it I intimately asked to change the room\n",
        " and after explaining 2 times that i booked a duplex btw it costs the same as a simple double but got way more volume due to the high ceiling was offered a room but only the next\n",
        " day so i had to check out the next day before 11 o clock in order to get the room i waned to Not the best way to begin your holiday So we had to wait till 13 00 in order to \n",
        " check in my new room what a wonderful waist of my time The room 023 i got was just as i wanted to peaceful internal garden view big window We were tired from waiting the room\n",
        " so we placed our belongings and rushed to the city In the evening it turned out that there was a constant noise in the room i guess it was made by vibrating vent tubes or\n",
        " something it was constant and annoying as hell AND it did not stop even at 2 am making it hard to fall asleep for me and my wife I have an audio recording that i cannot\n",
        " attach here but if you want i can send it via e mail The next day the technician came but was not able to determine the cause of the disturbing sound so i was offered to\n",
        " change the room once again the hotel was fully booked and they had only 1 room left the one that was smaller but seems newer'''"
      ],
      "execution_count": null,
      "outputs": []
    },
    {
      "cell_type": "code",
      "metadata": {
        "id": "6OogI0NmebcO"
      },
      "source": [
        "q1='How did I make the booking?'\n",
        "q2='What was our duration of stay?'\n",
        "q3='When did the technician arrive?'"
      ],
      "execution_count": null,
      "outputs": []
    },
    {
      "cell_type": "code",
      "metadata": {
        "id": "WYfzkKrjb12Z"
      },
      "source": [
        "#use transformers pipeline for question answering\n",
        "#use the default model for better speed\n",
        "#the unprocessed text seems to give a good answer so no need of preprocessing\n",
        "from transformers import pipeline\n",
        "question_answering = pipeline('question-answering')"
      ],
      "execution_count": null,
      "outputs": []
    },
    {
      "cell_type": "code",
      "metadata": {
        "colab": {
          "base_uri": "https://localhost:8080/"
        },
        "id": "c6S6O4LHfxl3",
        "outputId": "75331270-57fa-4347-bceb-9a6718fdef8f"
      },
      "source": [
        "for l in [q1,q2,q3]:\n",
        "  print('-',l,'\\n-',(question_answering(question=l, context=text3))['answer'])\n"
      ],
      "execution_count": null,
      "outputs": [
        {
          "output_type": "stream",
          "text": [
            "- How did I make the booking? \n",
            "- via booking com\n",
            "- What was our duration of stay? \n",
            "- 11 to 17 July\n",
            "- When did the technician arrive? \n",
            "- next day\n"
          ],
          "name": "stdout"
        }
      ]
    },
    {
      "cell_type": "code",
      "metadata": {
        "id": "Nc_KxIyliLtd"
      },
      "source": [
        ""
      ],
      "execution_count": null,
      "outputs": []
    }
  ]
}